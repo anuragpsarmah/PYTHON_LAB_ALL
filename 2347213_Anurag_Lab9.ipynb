{
 "cells": [
  {
   "cell_type": "code",
   "execution_count": 1,
   "metadata": {},
   "outputs": [
    {
     "name": "stdout",
     "output_type": "stream",
     "text": [
      "Array Indexing:\n",
      "2\n",
      "9\n",
      "\n",
      "Fancy Indexing:\n",
      "[2 9]\n"
     ]
    }
   ],
   "source": [
    "#QUESTION 1\n",
    "import numpy as np\n",
    "\n",
    "arr = np.array([[1, 2, 3],\n",
    "                [4, 5, 6],\n",
    "                [7, 8, 9]])\n",
    "\n",
    "print(\"Array Indexing:\")\n",
    "print(arr[0, 1])\n",
    "print(arr[2, 2])\n",
    "\n",
    "print(\"\\nFancy Indexing:\")\n",
    "rows = np.array([0, 2])\n",
    "cols = np.array([1, 2])\n",
    "print(arr[rows, cols])"
   ]
  },
  {
   "cell_type": "code",
   "execution_count": 2,
   "metadata": {},
   "outputs": [
    {
     "name": "stdout",
     "output_type": "stream",
     "text": [
      "Original array:\n",
      "[[ 1  2  3  4]\n",
      " [ 5  6  7  8]\n",
      " [ 9 10 11 12]]\n",
      "\n",
      "Sliced array (row 0 to 1, column 1 to 3):\n",
      "[[2 3 4]\n",
      " [6 7 8]]\n",
      "\n",
      "Sliced array (all rows, column 2):\n",
      "[ 3  7 11]\n"
     ]
    }
   ],
   "source": [
    "#QUESTION 2\n",
    "import numpy as np\n",
    "\n",
    "arr = np.array([[1, 2, 3, 4],\n",
    "                [5, 6, 7, 8],\n",
    "                [9, 10, 11, 12]])\n",
    "\n",
    "print(\"Original array:\")\n",
    "print(arr)\n",
    "\n",
    "print(\"\\nSliced array (row 0 to 1, column 1 to 3):\")\n",
    "print(arr[0:2, 1:4])\n",
    "\n",
    "print(\"\\nSliced array (all rows, column 2):\")\n",
    "print(arr[:, 2])\n"
   ]
  },
  {
   "cell_type": "code",
   "execution_count": 3,
   "metadata": {},
   "outputs": [
    {
     "name": "stdout",
     "output_type": "stream",
     "text": [
      "[[[[[1 2 3 4]]]]]\n"
     ]
    }
   ],
   "source": [
    "#QUESTION 3\n",
    "import numpy as np\n",
    "\n",
    "arr = np.array([1, 2, 3, 4], ndmin=5)\n",
    "\n",
    "print(arr)"
   ]
  },
  {
   "cell_type": "code",
   "execution_count": 4,
   "metadata": {},
   "outputs": [
    {
     "name": "stdout",
     "output_type": "stream",
     "text": [
      "[[1 2]\n",
      " [3 4]]\n"
     ]
    }
   ],
   "source": [
    "#QUESTION 4\n",
    "import numpy as np\n",
    "\n",
    "arr = np.array([1, 2, 3, 4])\n",
    "reshaped_arr = arr.reshape(2, 2)\n",
    "\n",
    "print(reshaped_arr)\n"
   ]
  },
  {
   "cell_type": "code",
   "execution_count": 21,
   "metadata": {},
   "outputs": [
    {
     "name": "stdout",
     "output_type": "stream",
     "text": [
      "Vertically stacked array:\n",
      "[[1 2 3]\n",
      " [4 5 6]]\n",
      "\n",
      "Horizontally stacked array:\n",
      "[1 2 3 4 5 6]\n",
      "\n",
      "Depth-wise stacked array:\n",
      "[[[1 4 7]\n",
      "  [2 5 8]\n",
      "  [3 6 9]]]\n",
      "\n",
      "Basic stacked array:\n",
      "[[1 2 3]\n",
      " [4 5 6]]\n"
     ]
    }
   ],
   "source": [
    "#QUESTION 5\n",
    "import numpy as np\n",
    "\n",
    "arr1 = np.array([1, 2, 3])\n",
    "arr2 = np.array([4, 5, 6])\n",
    "arr3 = np.array([7, 8, 9])\n",
    "\n",
    "vstack_result = np.vstack((arr1, arr2))\n",
    "\n",
    "\n",
    "hstack_result = np.hstack((arr1, arr2))\n",
    "\n",
    "\n",
    "dstack_result = np.dstack((arr1, arr2, arr3))\n",
    "\n",
    "\n",
    "basic_stack_result = np.stack((arr1, arr2))\n",
    "\n",
    "print(\"Vertically stacked array:\")\n",
    "print(vstack_result)\n",
    "\n",
    "print(\"\\nHorizontally stacked array:\")\n",
    "print(hstack_result)\n",
    "\n",
    "print(\"\\nDepth-wise stacked array:\")\n",
    "print(dstack_result)\n",
    "\n",
    "print(\"\\nBasic stacked array:\")\n",
    "print(basic_stack_result)\n"
   ]
  },
  {
   "cell_type": "code",
   "execution_count": 7,
   "metadata": {},
   "outputs": [
    {
     "name": "stdout",
     "output_type": "stream",
     "text": [
      "The index to insert 25 is: 2\n"
     ]
    }
   ],
   "source": [
    "#QUESION 6\n",
    "import numpy as np\n",
    "\n",
    "sorted_array = np.array([10, 20, 30, 40, 50])\n",
    "\n",
    "value_to_insert = 25\n",
    "\n",
    "insert_index = np.searchsorted(sorted_array, value_to_insert)\n",
    "\n",
    "print(f\"The index to insert {value_to_insert} is: {insert_index}\")\n"
   ]
  },
  {
   "cell_type": "code",
   "execution_count": 10,
   "metadata": {},
   "outputs": [
    {
     "name": "stdout",
     "output_type": "stream",
     "text": [
      "User Data:\n",
      "[(1, 'Rajesh Kumar', 28, 70., 175.)]\n",
      "\n",
      "Nutritional Log:\n",
      "[(1, 1, '2023-09-15', 2000, 80., 250., 70.)]\n"
     ]
    }
   ],
   "source": [
    "#QUESTION 7\n",
    "import numpy as np\n",
    "\n",
    "user_data_dtype = [\n",
    "    ('user_id', 'int32'),\n",
    "    ('name', 'U50'),\n",
    "    ('age', 'int32'),\n",
    "    ('weight_kg', 'float64'),\n",
    "    ('height_cm', 'float64')\n",
    "]\n",
    "\n",
    "nutritional_log_dtype = [\n",
    "    ('log_id', 'int32'),\n",
    "    ('user_id', 'int32'),\n",
    "    ('date', 'datetime64[D]'),\n",
    "    ('calories', 'int32'),\n",
    "    ('protein_g', 'float64'),\n",
    "    ('carbs_g', 'float64'),\n",
    "    ('fat_g', 'float64')\n",
    "]\n",
    "\n",
    "user_data_array = np.array([(1, 'Rajesh Kumar', 28, 70.0, 175.0)], dtype=user_data_dtype)\n",
    "nutritional_log_array = np.array([(1, 1, '2023-09-15', 2000, 80.0, 250.0, 70.0)], dtype=nutritional_log_dtype)\n",
    "\n",
    "print(\"User Data:\")\n",
    "print(user_data_array)\n",
    "\n",
    "print(\"\\nNutritional Log:\")\n",
    "print(nutritional_log_array)\n"
   ]
  },
  {
   "cell_type": "code",
   "execution_count": 22,
   "metadata": {},
   "outputs": [
    {
     "name": "stdout",
     "output_type": "stream",
     "text": [
      "      Name  Age    Subject\n",
      "0    Priya   20       Math\n",
      "1   Anjali   16    English\n",
      "2    Aarti   18    History\n",
      "3   Manish   16  Geography\n",
      "4   Vikram   16    History\n",
      "5    Priya   18  Geography\n",
      "6    Divya   18  Geography\n",
      "7    Priya   19    History\n",
      "8   Sanjay   19    Science\n",
      "9    Rahul   20    Science\n",
      "10  Rajesh   16    English\n",
      "11    Amit   17  Geography\n",
      "12  Manish   16    History\n",
      "13    Amit   19    History\n",
      "14   Sneha   17  Geography\n"
     ]
    }
   ],
   "source": [
    "#QUESTION 8\n",
    "import pandas as pd\n",
    "import random\n",
    "\n",
    "\n",
    "names = []\n",
    "ages = []\n",
    "subjects = []\n",
    "\n",
    "\n",
    "indian_names = [\"Amit\", \"Sneha\", \"Rajesh\", \"Priya\", \"Neha\", \"Manish\", \"Anjali\", \"Vikram\", \"Meera\", \"Sanjay\", \"Pooja\", \"Rahul\", \"Divya\", \"Aarti\", \"Suresh\"]\n",
    "\n",
    "for _ in range(15):\n",
    "    name = random.choice(indian_names)\n",
    "    age = random.randint(16, 20)\n",
    "    subject = random.choice([\"Math\", \"Science\", \"History\", \"English\", \"Geography\"])\n",
    "    \n",
    "    names.append(name)\n",
    "    ages.append(age)\n",
    "    subjects.append(subject)\n",
    "\n",
    "\n",
    "data = {\n",
    "    \"Name\": names,\n",
    "    \"Age\": ages,\n",
    "    \"Subject\": subjects\n",
    "}\n",
    "\n",
    "\n",
    "df = pd.DataFrame(data)\n",
    "\n",
    "\n",
    "print(df)\n"
   ]
  },
  {
   "cell_type": "code",
   "execution_count": 17,
   "metadata": {},
   "outputs": [
    {
     "name": "stdout",
     "output_type": "stream",
     "text": [
      "Original DataFrame:\n",
      "   UserID UserName  Nutritional_Data  Exercise_Data   BMI  Health_Score\n",
      "0       1   Anurag            1500.0           45.0  24.5          90.0\n",
      "1       2    Rahul               NaN           30.0   NaN          88.0\n",
      "2       3     Ajay            2000.0            NaN  28.1           NaN\n",
      "3       4    Vijay            1800.0           60.0  22.3          95.0\n",
      "4       5    Ashok            2200.0           90.0  25.6           NaN\n",
      "\n",
      "Checking for missing data:\n",
      "   UserID  UserName  Nutritional_Data  Exercise_Data    BMI  Health_Score\n",
      "0   False     False             False          False  False         False\n",
      "1   False     False              True          False   True         False\n",
      "2   False     False             False           True  False          True\n",
      "3   False     False             False          False  False         False\n",
      "4   False     False             False          False  False          True\n",
      "\n",
      "Checking for non-missing data:\n",
      "   UserID  UserName  Nutritional_Data  Exercise_Data    BMI  Health_Score\n",
      "0    True      True              True           True   True          True\n",
      "1    True      True             False           True  False          True\n",
      "2    True      True              True          False   True         False\n",
      "3    True      True              True           True   True          True\n",
      "4    True      True              True           True   True         False\n",
      "\n",
      "DataFrame after dropping rows with missing data:\n",
      "   UserID UserName  Nutritional_Data  Exercise_Data   BMI  Health_Score\n",
      "0       1   Anurag            1500.0           45.0  24.5          90.0\n",
      "3       4    Vijay            1800.0           60.0  22.3          95.0\n",
      "\n",
      "DataFrame after filling missing values with 0:\n",
      "   UserID UserName  Nutritional_Data  Exercise_Data   BMI  Health_Score\n",
      "0       1   Anurag            1500.0           45.0  24.5          90.0\n",
      "1       2    Rahul               0.0           30.0   0.0          88.0\n",
      "2       3     Ajay            2000.0            0.0  28.1           0.0\n",
      "3       4    Vijay            1800.0           60.0  22.3          95.0\n",
      "4       5    Ashok            2200.0           90.0  25.6           0.0\n",
      "\n",
      "DataFrame after replacing missing values with -1:\n",
      "   UserID UserName  Nutritional_Data  Exercise_Data   BMI  Health_Score\n",
      "0       1   Anurag            1500.0           45.0  24.5          90.0\n",
      "1       2    Rahul              -1.0           30.0  -1.0          88.0\n",
      "2       3     Ajay            2000.0           -1.0  28.1          -1.0\n",
      "3       4    Vijay            1800.0           60.0  22.3          95.0\n",
      "4       5    Ashok            2200.0           90.0  25.6          -1.0\n",
      "\n",
      "DataFrame after linear interpolation of missing values:\n",
      "   UserID UserName  Nutritional_Data  Exercise_Data   BMI  Health_Score\n",
      "0       1   Anurag            1500.0           45.0  24.5          90.0\n",
      "1       2    Rahul            1750.0           30.0  26.3          88.0\n",
      "2       3     Ajay            2000.0           45.0  28.1          91.5\n",
      "3       4    Vijay            1800.0           60.0  22.3          95.0\n",
      "4       5    Ashok            2200.0           90.0  25.6          95.0\n"
     ]
    }
   ],
   "source": [
    "#QUESTION 9\n",
    "import pandas as pd\n",
    "import numpy as np\n",
    "\n",
    "data = {\n",
    "    'UserID': [1, 2, 3, 4, 5],\n",
    "    'UserName': ['Anurag', 'Rahul', 'Ajay', 'Vijay', 'Ashok'],\n",
    "    'Nutritional_Data': [1500, np.nan, 2000, 1800, 2200],\n",
    "    'Exercise_Data': [45, 30, np.nan, 60, 90],\n",
    "    'BMI': [24.5, np.nan, 28.1, 22.3, 25.6],\n",
    "    'Health_Score': [90, 88, np.nan, 95, np.nan]\n",
    "}\n",
    "\n",
    "df = pd.DataFrame(data)\n",
    "\n",
    "print(\"Original DataFrame:\")\n",
    "print(df)\n",
    "\n",
    "print(\"\\nChecking for missing data:\")\n",
    "print(df.isnull())\n",
    "\n",
    "print(\"\\nChecking for non-missing data:\")\n",
    "print(df.notnull())\n",
    "\n",
    "df_dropna = df.dropna()\n",
    "print(\"\\nDataFrame after dropping rows with missing data:\")\n",
    "print(df_dropna)\n",
    "\n",
    "df_fillna = df.fillna(0)\n",
    "print(\"\\nDataFrame after filling missing values with 0:\")\n",
    "print(df_fillna)\n",
    "\n",
    "df_replace = df.replace(np.nan, -1)\n",
    "print(\"\\nDataFrame after replacing missing values with -1:\")\n",
    "print(df_replace)\n",
    "\n",
    "df_interpolate = df.interpolate()\n",
    "print(\"\\nDataFrame after linear interpolation of missing values:\")\n",
    "print(df_interpolate)\n"
   ]
  },
  {
   "cell_type": "code",
   "execution_count": 24,
   "metadata": {},
   "outputs": [
    {
     "name": "stdout",
     "output_type": "stream",
     "text": [
      "Hierarchical Indexed DataFrame:\n",
      "              Nutritional_Data  Exercise_Data   BMI  Health_Score\n",
      "UserID Week                                                      \n",
      "User1  Week1            1500.0           45.0  24.5          90.0\n",
      "       Week2               NaN           30.0   NaN          88.0\n",
      "User2  Week1            2000.0            NaN  28.1           NaN\n",
      "       Week2            1800.0           60.0  22.3          95.0\n",
      "User3  Week1            2200.0           90.0  25.6           NaN\n"
     ]
    }
   ],
   "source": [
    "#QUESTION 10\n",
    "import pandas as pd\n",
    "import numpy as np\n",
    "\n",
    "data = {\n",
    "    'Nutritional_Data': [1500, np.nan, 2000, 1800, 2200],\n",
    "    'Exercise_Data': [45, 30, np.nan, 60, 90],\n",
    "    'BMI': [24.5, np.nan, 28.1, 22.3, 25.6],\n",
    "    'Health_Score': [90, 88, np.nan, 95, np.nan]\n",
    "}\n",
    "\n",
    "index = pd.MultiIndex.from_tuples([('User1', 'Week1'), ('User1', 'Week2'), ('User2', 'Week1'), ('User2', 'Week2'), ('User3', 'Week1')],\n",
    "                                   names=['UserID', 'Week'])\n",
    "\n",
    "df = pd.DataFrame(data, index=index)\n",
    "\n",
    "print(\"Hierarchical Indexed DataFrame:\")\n",
    "print(df)"
   ]
  }
 ],
 "metadata": {
  "kernelspec": {
   "display_name": "Python 3",
   "language": "python",
   "name": "python3"
  },
  "language_info": {
   "codemirror_mode": {
    "name": "ipython",
    "version": 3
   },
   "file_extension": ".py",
   "mimetype": "text/x-python",
   "name": "python",
   "nbconvert_exporter": "python",
   "pygments_lexer": "ipython3",
   "version": "3.11.5"
  },
  "orig_nbformat": 4
 },
 "nbformat": 4,
 "nbformat_minor": 2
}
