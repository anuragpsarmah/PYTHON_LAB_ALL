{
 "cells": [
  {
   "cell_type": "markdown",
   "metadata": {},
   "source": [
    "QUESTION 1"
   ]
  },
  {
   "cell_type": "code",
   "execution_count": 29,
   "metadata": {},
   "outputs": [
    {
     "name": "stdout",
     "output_type": "stream",
     "text": [
      "Matrix 1:\n",
      "[[9 6 1]\n",
      " [5 9 6]\n",
      " [8 5 7]]\n",
      "Matrix 2:\n",
      "[[7 3 9]\n",
      " [3 5 2]\n",
      " [2 3 2]]\n",
      "Product of all elements (prod):\n",
      "4082400\n",
      "Multiplication of matrix (multiply):\n",
      "[[63 18  9]\n",
      " [15 45 12]\n",
      " [16 15 14]]\n",
      "Dot product of matrix (dot):\n",
      "[[83 60 95]\n",
      " [74 78 75]\n",
      " [85 70 96]]\n"
     ]
    }
   ],
   "source": [
    "import numpy as np\n",
    "\n",
    "matrix1 = np.random.randint(1, 10, (3, 3))\n",
    "matrix2 = np.random.randint(1, 10, (3, 3))\n",
    "\n",
    "product_result = np.prod(matrix1)  \n",
    "multiply_result = np.multiply(matrix1, matrix2)  \n",
    "dot_product_result = np.dot(matrix1, matrix2)\n",
    "\n",
    "print(\"Matrix 1:\")\n",
    "print(matrix1)\n",
    "print(\"Matrix 2:\")\n",
    "print(matrix2)\n",
    "\n",
    "print(\"Product of all elements (prod):\")\n",
    "print(product_result)  \n",
    "\n",
    "print(\"Multiplication of matrix (multiply):\")\n",
    "print(multiply_result)\n",
    "\n",
    "print(\"Dot product of matrix (dot):\")\n",
    "print(dot_product_result)"
   ]
  },
  {
   "cell_type": "markdown",
   "metadata": {},
   "source": [
    "QUESTION 2"
   ]
  },
  {
   "cell_type": "code",
   "execution_count": 30,
   "metadata": {},
   "outputs": [
    {
     "name": "stdout",
     "output_type": "stream",
     "text": [
      "Union: [1 2 3 4 5 6 7]\n",
      "Intersection: [3 4 5]\n",
      "Set Difference (set1 - set2): [1 2]\n",
      "XOR (Symmetric Difference): [1 2 6 7]\n"
     ]
    }
   ],
   "source": [
    "import numpy as np\n",
    "\n",
    "set1 = np.array([1, 2, 3, 4, 5])\n",
    "set2 = np.array([3, 4, 5, 6, 7])\n",
    "\n",
    "union_result = np.union1d(set1, set2)\n",
    "print(\"Union:\", union_result)\n",
    "\n",
    "intersection_result = np.intersect1d(set1, set2)\n",
    "print(\"Intersection:\", intersection_result)\n",
    "\n",
    "difference_result = np.setdiff1d(set1, set2)\n",
    "print(\"Set Difference (set1 - set2):\", difference_result)\n",
    "\n",
    "xor_result = np.setxor1d(set1, set2)\n",
    "print(\"XOR (Symmetric Difference):\", xor_result)"
   ]
  },
  {
   "cell_type": "markdown",
   "metadata": {},
   "source": [
    "QUESTION 3"
   ]
  },
  {
   "cell_type": "code",
   "execution_count": 31,
   "metadata": {},
   "outputs": [
    {
     "name": "stdout",
     "output_type": "stream",
     "text": [
      "Original 1D Array:  [ 8  9 10  3  2  1  3  7 10  6]\n",
      "Cumulative Sum: [ 8 17 27 30 32 33 36 43 53 59]\n",
      "Cumulative Product: [      8      72     720    2160    4320    4320   12960   90720  907200\n",
      " 5443200]\n",
      "Discrete Difference (n=3): [-8 14 -6  3 -1 -3 -6]\n",
      "Unique Elements: [ 1  2  3  6  7  8  9 10]\n"
     ]
    }
   ],
   "source": [
    "import numpy as np\n",
    "\n",
    "random_array = np.random.randint(1, 11, size=10)\n",
    "print(\"Original 1D Array: \", random_array)\n",
    "\n",
    "cumulative_sum = np.cumsum(random_array)\n",
    "print(\"Cumulative Sum:\", cumulative_sum)\n",
    "\n",
    "cumulative_product = np.cumprod(random_array)\n",
    "print(\"Cumulative Product:\", cumulative_product)\n",
    "\n",
    "discrete_difference = np.diff(random_array, n=3)\n",
    "print(\"Discrete Difference (n=3):\", discrete_difference)\n",
    "\n",
    "unique_elements = np.unique(random_array)\n",
    "print(\"Unique Elements:\", unique_elements)"
   ]
  },
  {
   "cell_type": "markdown",
   "metadata": {},
   "source": [
    "QUESTION 4"
   ]
  },
  {
   "cell_type": "code",
   "execution_count": 32,
   "metadata": {},
   "outputs": [
    {
     "name": "stdout",
     "output_type": "stream",
     "text": [
      "Addition using zip(): [11, 22, 33, 44, 55]\n",
      "Addition using np.add(): [11 22 33 44 55]\n",
      "Addition using user-defined function (frompyfunc()): [11 22 33 44 55]\n"
     ]
    }
   ],
   "source": [
    "import numpy as np\n",
    "\n",
    "array1 = np.array([1, 2, 3, 4, 5])\n",
    "array2 = np.array([10, 20, 30, 40, 50])\n",
    "\n",
    "result_zip = [x + y for x, y in zip(array1, array2)]\n",
    "print(\"Addition using zip():\", result_zip)\n",
    "\n",
    "result_add = np.add(array1, array2)\n",
    "print(\"Addition using np.add():\", result_add)\n",
    "\n",
    "def custom_add(x, y):\n",
    "    return x + y\n",
    "ufunc = np.frompyfunc(custom_add, 2, 1)\n",
    "result_custom = ufunc(array1, array2)\n",
    "print(\"Addition using user-defined function (frompyfunc()):\", result_custom)"
   ]
  },
  {
   "cell_type": "markdown",
   "metadata": {},
   "source": [
    "QUESTION 5"
   ]
  },
  {
   "cell_type": "code",
   "execution_count": 33,
   "metadata": {},
   "outputs": [
    {
     "name": "stdout",
     "output_type": "stream",
     "text": [
      "LCM of elements: 72\n",
      "GCD of elements: 6\n"
     ]
    }
   ],
   "source": [
    "import numpy as np\n",
    "from numpy import gcd, lcm\n",
    "from functools import reduce\n",
    "\n",
    "elements = np.array([12, 18, 24, 36])\n",
    "\n",
    "lcm_result = reduce(lcm, elements)\n",
    "print(\"LCM of elements:\", lcm_result)\n",
    "\n",
    "gcd_result = reduce(gcd, elements)\n",
    "print(\"GCD of elements:\", gcd_result)"
   ]
  }
 ],
 "metadata": {
  "kernelspec": {
   "display_name": "Python 3",
   "language": "python",
   "name": "python3"
  },
  "language_info": {
   "codemirror_mode": {
    "name": "ipython",
    "version": 3
   },
   "file_extension": ".py",
   "mimetype": "text/x-python",
   "name": "python",
   "nbconvert_exporter": "python",
   "pygments_lexer": "ipython3",
   "version": "3.11.5"
  },
  "orig_nbformat": 4
 },
 "nbformat": 4,
 "nbformat_minor": 2
}
